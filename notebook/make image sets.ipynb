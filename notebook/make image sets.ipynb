{
 "cells": [
  {
   "cell_type": "markdown",
   "id": "1f8c9ce8",
   "metadata": {},
   "source": [
    "## make waymo imageSets\n"
   ]
  },
  {
   "cell_type": "code",
   "execution_count": 1,
   "id": "00235c0c",
   "metadata": {},
   "outputs": [],
   "source": [
    "import os"
   ]
  },
  {
   "cell_type": "code",
   "execution_count": null,
   "id": "4c3531b5",
   "metadata": {},
   "outputs": [],
   "source": []
  },
  {
   "cell_type": "code",
   "execution_count": 2,
   "id": "dd30e945",
   "metadata": {},
   "outputs": [],
   "source": [
    "BASEDIR = '/mnt/nas/DATA/waymo/waymo'\n",
    "raw_data = os.path.join(BASEDIR, 'raw_data')\n",
    "image_sets = os.path.join(BASEDIR, 'ImageSets')"
   ]
  },
  {
   "cell_type": "code",
   "execution_count": 4,
   "id": "d8e73a55",
   "metadata": {},
   "outputs": [
    {
     "data": {
      "text/plain": [
       "['segment-1005081002024129653_5313_150_5333_150_with_camera_labels.tfrecord',\n",
       " 'segment-1022527355599519580_4866_960_4886_960_with_camera_labels.tfrecord',\n",
       " 'segment-10017090168044687777_6380_000_6400_000_with_camera_labels.tfrecord',\n",
       " 'segment-10023947602400723454_1120_000_1140_000_with_camera_labels.tfrecord',\n",
       " 'segment-10061305430875486848_1080_000_1100_000_with_camera_labels.tfrecord',\n",
       " 'segment-10072140764565668044_4060_000_4080_000_with_camera_labels.tfrecord',\n",
       " 'segment-10072231702153043603_5725_000_5745_000_with_camera_labels.tfrecord',\n",
       " 'segment-10075870402459732738_1060_000_1080_000_with_camera_labels.tfrecord',\n",
       " 'segment-10082223140073588526_6140_000_6160_000_with_camera_labels.tfrecord',\n",
       " 'segment-10094743350625019937_3420_000_3440_000_with_camera_labels.tfrecord',\n",
       " 'segment-10096619443888687526_2820_000_2840_000_with_camera_labels.tfrecord',\n",
       " 'segment-10107710434105775874_760_000_780_000_with_camera_labels.tfrecord',\n",
       " 'segment-10153695247769592104_787_000_807_000_with_camera_labels.tfrecord',\n",
       " 'segment-10206293520369375008_2796_800_2816_800_with_camera_labels.tfrecord',\n",
       " 'segment-10212406498497081993_5300_000_5320_000_with_camera_labels.tfrecord',\n",
       " 'segment-10226164909075980558_180_000_200_000_with_camera_labels.tfrecord',\n",
       " 'segment-10231929575853664160_1160_000_1180_000_with_camera_labels.tfrecord',\n",
       " 'segment-10235335145367115211_5420_000_5440_000_with_camera_labels.tfrecord',\n",
       " 'segment-10241508783381919015_2889_360_2909_360_with_camera_labels.tfrecord',\n",
       " 'segment-10275144660749673822_5755_561_5775_561_with_camera_labels.tfrecord',\n",
       " 'segment-10327752107000040525_1120_000_1140_000_with_camera_labels.tfrecord',\n",
       " 'segment-10391312872392849784_4099_400_4119_400_with_camera_labels.tfrecord',\n",
       " 'segment-10444454289801298640_4360_000_4380_000_with_camera_labels.tfrecord',\n",
       " 'segment-10455472356147194054_1560_000_1580_000_with_camera_labels.tfrecord']"
      ]
     },
     "execution_count": 4,
     "metadata": {},
     "output_type": "execute_result"
    }
   ],
   "source": [
    "tf_files = [file for file in os.listdir(raw_data) if file.endswith('tfrecord')]\n",
    "tf_files"
   ]
  },
  {
   "cell_type": "code",
   "execution_count": 7,
   "id": "370242ca",
   "metadata": {},
   "outputs": [],
   "source": [
    "train_txt = open(os.path.join(image_sets, 'train.txt'), 'w')\n",
    "test_txt = open(os.path.join(image_sets, 'val.txt'), 'w')\n",
    "\n",
    "N = len(tf_files)\n",
    "train_N = int(N*0.8)\n",
    "\n",
    "for i, fi in enumerate(tf_files):\n",
    "    if i < train_N:\n",
    "        train_txt.write(f'{fi}\\n')\n",
    "    else:\n",
    "        test_txt.write(f'{fi}\\n')\n",
    "    \n",
    "train_txt.close()\n",
    "test_txt.close()"
   ]
  },
  {
   "cell_type": "code",
   "execution_count": null,
   "id": "620e9591",
   "metadata": {},
   "outputs": [],
   "source": []
  },
  {
   "cell_type": "markdown",
   "id": "078d08d6",
   "metadata": {},
   "source": [
    "## find tfrecord corrupted files"
   ]
  },
  {
   "cell_type": "code",
   "execution_count": 1,
   "id": "c002cfb2",
   "metadata": {},
   "outputs": [
    {
     "name": "stderr",
     "output_type": "stream",
     "text": [
      "2021-07-27 15:31:14.061261: W tensorflow/stream_executor/platform/default/dso_loader.cc:55] Could not load dynamic library 'libnvinfer.so.6'; dlerror: libnvinfer.so.6: cannot open shared object file: No such file or directory; LD_LIBRARY_PATH: /home/jianyun/cuda/lib64:/usr/local/cuda-11.0/lib64\n",
      "2021-07-27 15:31:14.061369: W tensorflow/stream_executor/platform/default/dso_loader.cc:55] Could not load dynamic library 'libnvinfer_plugin.so.6'; dlerror: libnvinfer_plugin.so.6: cannot open shared object file: No such file or directory; LD_LIBRARY_PATH: /home/jianyun/cuda/lib64:/usr/local/cuda-11.0/lib64\n",
      "2021-07-27 15:31:14.061377: W tensorflow/compiler/tf2tensorrt/utils/py_utils.cc:30] Cannot dlopen some TensorRT libraries. If you would like to use Nvidia GPU with TensorRT, please make sure the missing libraries mentioned above are installed properly.\n"
     ]
    }
   ],
   "source": [
    "import tensorflow as tf\n",
    "import glob\n"
   ]
  },
  {
   "cell_type": "code",
   "execution_count": 3,
   "id": "8efaa6cd",
   "metadata": {},
   "outputs": [
    {
     "name": "stdout",
     "output_type": "stream",
     "text": [
      "0\n",
      "WARNING:tensorflow:From /tmp/ipykernel_31227/3560090397.py:7: tf_record_iterator (from tensorflow.python.lib.io.tf_record) is deprecated and will be removed in a future version.\n",
      "Instructions for updating:\n",
      "Use eager execution and: \n",
      "`tf.data.TFRecordDataset(path)`\n"
     ]
    },
    {
     "ename": "DataLossError",
     "evalue": "corrupted record at 718721764",
     "output_type": "error",
     "traceback": [
      "\u001b[0;31m---------------------------------------------------------------------------\u001b[0m",
      "\u001b[0;31mDataLossError\u001b[0m                             Traceback (most recent call last)",
      "\u001b[0;32m/tmp/ipykernel_31227/3560090397.py\u001b[0m in \u001b[0;36m<module>\u001b[0;34m\u001b[0m\n\u001b[1;32m      5\u001b[0m \u001b[0;32mfor\u001b[0m \u001b[0mf_i\u001b[0m\u001b[0;34m,\u001b[0m \u001b[0mfile\u001b[0m \u001b[0;32min\u001b[0m \u001b[0menumerate\u001b[0m\u001b[0;34m(\u001b[0m\u001b[0mtrain_files\u001b[0m\u001b[0;34m)\u001b[0m\u001b[0;34m:\u001b[0m\u001b[0;34m\u001b[0m\u001b[0;34m\u001b[0m\u001b[0m\n\u001b[1;32m      6\u001b[0m     \u001b[0mprint\u001b[0m\u001b[0;34m(\u001b[0m\u001b[0mf_i\u001b[0m\u001b[0;34m)\u001b[0m\u001b[0;34m\u001b[0m\u001b[0;34m\u001b[0m\u001b[0m\n\u001b[0;32m----> 7\u001b[0;31m     \u001b[0mtotal_images\u001b[0m \u001b[0;34m+=\u001b[0m \u001b[0msum\u001b[0m\u001b[0;34m(\u001b[0m\u001b[0;34m[\u001b[0m\u001b[0;36m1\u001b[0m \u001b[0;32mfor\u001b[0m \u001b[0m_\u001b[0m \u001b[0;32min\u001b[0m \u001b[0mtf\u001b[0m\u001b[0;34m.\u001b[0m\u001b[0mcompat\u001b[0m\u001b[0;34m.\u001b[0m\u001b[0mv1\u001b[0m\u001b[0;34m.\u001b[0m\u001b[0mpython_io\u001b[0m\u001b[0;34m.\u001b[0m\u001b[0mtf_record_iterator\u001b[0m\u001b[0;34m(\u001b[0m\u001b[0mfile\u001b[0m\u001b[0;34m)\u001b[0m\u001b[0;34m]\u001b[0m\u001b[0;34m)\u001b[0m\u001b[0;34m\u001b[0m\u001b[0;34m\u001b[0m\u001b[0m\n\u001b[0m",
      "\u001b[0;32m/tmp/ipykernel_31227/3560090397.py\u001b[0m in \u001b[0;36m<listcomp>\u001b[0;34m(.0)\u001b[0m\n\u001b[1;32m      5\u001b[0m \u001b[0;32mfor\u001b[0m \u001b[0mf_i\u001b[0m\u001b[0;34m,\u001b[0m \u001b[0mfile\u001b[0m \u001b[0;32min\u001b[0m \u001b[0menumerate\u001b[0m\u001b[0;34m(\u001b[0m\u001b[0mtrain_files\u001b[0m\u001b[0;34m)\u001b[0m\u001b[0;34m:\u001b[0m\u001b[0;34m\u001b[0m\u001b[0;34m\u001b[0m\u001b[0m\n\u001b[1;32m      6\u001b[0m     \u001b[0mprint\u001b[0m\u001b[0;34m(\u001b[0m\u001b[0mf_i\u001b[0m\u001b[0;34m)\u001b[0m\u001b[0;34m\u001b[0m\u001b[0;34m\u001b[0m\u001b[0m\n\u001b[0;32m----> 7\u001b[0;31m     \u001b[0mtotal_images\u001b[0m \u001b[0;34m+=\u001b[0m \u001b[0msum\u001b[0m\u001b[0;34m(\u001b[0m\u001b[0;34m[\u001b[0m\u001b[0;36m1\u001b[0m \u001b[0;32mfor\u001b[0m \u001b[0m_\u001b[0m \u001b[0;32min\u001b[0m \u001b[0mtf\u001b[0m\u001b[0;34m.\u001b[0m\u001b[0mcompat\u001b[0m\u001b[0;34m.\u001b[0m\u001b[0mv1\u001b[0m\u001b[0;34m.\u001b[0m\u001b[0mpython_io\u001b[0m\u001b[0;34m.\u001b[0m\u001b[0mtf_record_iterator\u001b[0m\u001b[0;34m(\u001b[0m\u001b[0mfile\u001b[0m\u001b[0;34m)\u001b[0m\u001b[0;34m]\u001b[0m\u001b[0;34m)\u001b[0m\u001b[0;34m\u001b[0m\u001b[0;34m\u001b[0m\u001b[0m\n\u001b[0m",
      "\u001b[0;32m~/miniconda3/envs/mmlab/lib/python3.7/site-packages/tensorflow_core/python/lib/io/tf_record.py\u001b[0m in \u001b[0;36mtf_record_iterator\u001b[0;34m(path, options)\u001b[0m\n\u001b[1;32m    179\u001b[0m     \u001b[0;32mwhile\u001b[0m \u001b[0;32mTrue\u001b[0m\u001b[0;34m:\u001b[0m\u001b[0;34m\u001b[0m\u001b[0;34m\u001b[0m\u001b[0m\n\u001b[1;32m    180\u001b[0m       \u001b[0;32mtry\u001b[0m\u001b[0;34m:\u001b[0m\u001b[0;34m\u001b[0m\u001b[0;34m\u001b[0m\u001b[0m\n\u001b[0;32m--> 181\u001b[0;31m         \u001b[0mreader\u001b[0m\u001b[0;34m.\u001b[0m\u001b[0mGetNext\u001b[0m\u001b[0;34m(\u001b[0m\u001b[0;34m)\u001b[0m\u001b[0;34m\u001b[0m\u001b[0;34m\u001b[0m\u001b[0m\n\u001b[0m\u001b[1;32m    182\u001b[0m       \u001b[0;32mexcept\u001b[0m \u001b[0merrors\u001b[0m\u001b[0;34m.\u001b[0m\u001b[0mOutOfRangeError\u001b[0m\u001b[0;34m:\u001b[0m\u001b[0;34m\u001b[0m\u001b[0;34m\u001b[0m\u001b[0m\n\u001b[1;32m    183\u001b[0m         \u001b[0;32mbreak\u001b[0m\u001b[0;34m\u001b[0m\u001b[0;34m\u001b[0m\u001b[0m\n",
      "\u001b[0;32m~/miniconda3/envs/mmlab/lib/python3.7/site-packages/tensorflow_core/python/pywrap_tensorflow_internal.py\u001b[0m in \u001b[0;36mGetNext\u001b[0;34m(self)\u001b[0m\n\u001b[1;32m    904\u001b[0m \u001b[0;34m\u001b[0m\u001b[0m\n\u001b[1;32m    905\u001b[0m     \u001b[0;32mdef\u001b[0m \u001b[0mGetNext\u001b[0m\u001b[0;34m(\u001b[0m\u001b[0mself\u001b[0m\u001b[0;34m)\u001b[0m\u001b[0;34m:\u001b[0m\u001b[0;34m\u001b[0m\u001b[0;34m\u001b[0m\u001b[0m\n\u001b[0;32m--> 906\u001b[0;31m         \u001b[0;32mreturn\u001b[0m \u001b[0m_pywrap_tensorflow_internal\u001b[0m\u001b[0;34m.\u001b[0m\u001b[0mPyRecordReader_GetNext\u001b[0m\u001b[0;34m(\u001b[0m\u001b[0mself\u001b[0m\u001b[0;34m)\u001b[0m\u001b[0;34m\u001b[0m\u001b[0;34m\u001b[0m\u001b[0m\n\u001b[0m\u001b[1;32m    907\u001b[0m \u001b[0;34m\u001b[0m\u001b[0m\n\u001b[1;32m    908\u001b[0m     \u001b[0;32mdef\u001b[0m \u001b[0mrecord\u001b[0m\u001b[0;34m(\u001b[0m\u001b[0mself\u001b[0m\u001b[0;34m)\u001b[0m\u001b[0;34m:\u001b[0m\u001b[0;34m\u001b[0m\u001b[0;34m\u001b[0m\u001b[0m\n",
      "\u001b[0;31mDataLossError\u001b[0m: corrupted record at 718721764"
     ]
    }
   ],
   "source": [
    "\n",
    "BASEDIR = '/mnt/nas/DATA/waymo/waymo/raw_data'\n",
    "\n",
    "train_files = sorted(glob.glob(BASEDIR + '/*.tfrecord'))\n",
    "total_images = 0\n",
    "for f_i, file in enumerate(train_files): \n",
    "    print(f_i) \n",
    "    total_images += sum([1 for _ in tf.compat.v1.python_io.tf_record_iterator(file)])"
   ]
  },
  {
   "cell_type": "code",
   "execution_count": null,
   "id": "61126fa1",
   "metadata": {},
   "outputs": [],
   "source": []
  }
 ],
 "metadata": {
  "kernelspec": {
   "display_name": "Python 3 (ipykernel)",
   "language": "python",
   "name": "python3"
  },
  "language_info": {
   "codemirror_mode": {
    "name": "ipython",
    "version": 3
   },
   "file_extension": ".py",
   "mimetype": "text/x-python",
   "name": "python",
   "nbconvert_exporter": "python",
   "pygments_lexer": "ipython3",
   "version": "3.7.10"
  }
 },
 "nbformat": 4,
 "nbformat_minor": 5
}
