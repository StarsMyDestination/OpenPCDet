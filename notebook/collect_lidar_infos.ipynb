{
 "cells": [
  {
   "cell_type": "code",
   "execution_count": 1,
   "id": "a2f3147c",
   "metadata": {},
   "outputs": [],
   "source": [
    "%load_ext autoreload\n",
    "%autoreload 2"
   ]
  },
  {
   "cell_type": "code",
   "execution_count": 13,
   "id": "338c235c",
   "metadata": {},
   "outputs": [],
   "source": [
    "import os\n",
    "import sys\n",
    "import numpy as np\n",
    "import torch\n",
    "\n",
    "import matplotlib.pyplot as plt\n",
    "%matplotlib inline\n",
    "\n",
    "from pcdet.models import build_network, load_data_to_gpu\n",
    "from pcdet.models.backbones_2d.map_to_rv.range_projection import SphereProjection, BasicRangeProjection\n",
    "from pcdet.utils.common_utils import create_logger\n",
    "from pathlib import Path\n",
    "from pcdet.config import cfg, cfg_from_yaml_file"
   ]
  },
  {
   "cell_type": "markdown",
   "id": "5b29e537",
   "metadata": {},
   "source": [
    "# H-FOV & V-FOV"
   ]
  },
  {
   "cell_type": "markdown",
   "id": "980176c7",
   "metadata": {},
   "source": [
    "## KITTI"
   ]
  },
  {
   "cell_type": "code",
   "execution_count": 2,
   "id": "86bcaa4f",
   "metadata": {},
   "outputs": [],
   "source": [
    "from pcdet.datasets.kitti.kitti_dataset import KittiDataset"
   ]
  },
  {
   "cell_type": "code",
   "execution_count": 3,
   "id": "2dfd5e7f",
   "metadata": {},
   "outputs": [
    {
     "name": "stderr",
     "output_type": "stream",
     "text": [
      "2021-07-30 15:00:42,002   INFO  Loading KITTI dataset\n",
      "2021-07-30 15:00:42,141   INFO  Total samples for KITTI dataset: 3769\n"
     ]
    }
   ],
   "source": [
    "data_path = Path('../data/kitti')\n",
    "cfg_file = '../tools/cfgs/dataset_configs/kitti_dataset_noAug.yaml'\n",
    "\n",
    "class_names = ['Car', 'Pedestrian', 'Cyclist']\n",
    "cfg_from_yaml_file(cfg_file, cfg)\n",
    "\n",
    "logger = create_logger()\n",
    "# use val set, no aug for statistic!\n",
    "kitti_dataset = KittiDataset(cfg, class_names=class_names, root_path=data_path, logger=logger, training=False)\n"
   ]
  },
  {
   "cell_type": "code",
   "execution_count": 4,
   "id": "d8b9942f",
   "metadata": {},
   "outputs": [
    {
     "name": "stdout",
     "output_type": "stream",
     "text": [
      "processing 195/3769"
     ]
    },
    {
     "ename": "KeyboardInterrupt",
     "evalue": "",
     "output_type": "error",
     "traceback": [
      "\u001b[0;31m---------------------------------------------------------------------------\u001b[0m",
      "\u001b[0;31mKeyboardInterrupt\u001b[0m                         Traceback (most recent call last)",
      "\u001b[0;32m/tmp/ipykernel_32344/37442831.py\u001b[0m in \u001b[0;36m<module>\u001b[0;34m\u001b[0m\n\u001b[1;32m      1\u001b[0m \u001b[0mminmax\u001b[0m \u001b[0;34m=\u001b[0m \u001b[0;34m[\u001b[0m\u001b[0;34m]\u001b[0m \u001b[0;31m# rMin, thetaMin, phiMin, rMax, thetaMax, phiMax\u001b[0m\u001b[0;34m\u001b[0m\u001b[0;34m\u001b[0m\u001b[0m\n\u001b[0;32m----> 2\u001b[0;31m \u001b[0;32mfor\u001b[0m \u001b[0mi\u001b[0m\u001b[0;34m,\u001b[0m \u001b[0mdata_dict\u001b[0m \u001b[0;32min\u001b[0m \u001b[0menumerate\u001b[0m\u001b[0;34m(\u001b[0m\u001b[0mkitti_dataset\u001b[0m\u001b[0;34m)\u001b[0m\u001b[0;34m:\u001b[0m\u001b[0;34m\u001b[0m\u001b[0;34m\u001b[0m\u001b[0m\n\u001b[0m\u001b[1;32m      3\u001b[0m     \u001b[0msys\u001b[0m\u001b[0;34m.\u001b[0m\u001b[0mstdout\u001b[0m\u001b[0;34m.\u001b[0m\u001b[0mwrite\u001b[0m\u001b[0;34m(\u001b[0m\u001b[0;34mf'\\rprocessing {i}/{len(kitti_dataset)}'\u001b[0m\u001b[0;34m)\u001b[0m\u001b[0;34m\u001b[0m\u001b[0;34m\u001b[0m\u001b[0m\n\u001b[1;32m      4\u001b[0m     \u001b[0mpoints\u001b[0m \u001b[0;34m=\u001b[0m \u001b[0mdata_dict\u001b[0m\u001b[0;34m[\u001b[0m\u001b[0;34m'points'\u001b[0m\u001b[0;34m]\u001b[0m\u001b[0;34m\u001b[0m\u001b[0;34m\u001b[0m\u001b[0m\n\u001b[1;32m      5\u001b[0m     \u001b[0mxyz\u001b[0m \u001b[0;34m=\u001b[0m \u001b[0mtorch\u001b[0m\u001b[0;34m.\u001b[0m\u001b[0mfrom_numpy\u001b[0m\u001b[0;34m(\u001b[0m\u001b[0mpoints\u001b[0m\u001b[0;34m[\u001b[0m\u001b[0;34m:\u001b[0m\u001b[0;34m,\u001b[0m \u001b[0;36m0\u001b[0m\u001b[0;34m:\u001b[0m\u001b[0;36m3\u001b[0m\u001b[0;34m]\u001b[0m\u001b[0;34m)\u001b[0m\u001b[0;34m\u001b[0m\u001b[0;34m\u001b[0m\u001b[0m\n",
      "\u001b[0;32m~/WorkSpace/pythonProjects/OpenPCDet/pcdet/datasets/kitti/kitti_dataset.py\u001b[0m in \u001b[0;36m__getitem__\u001b[0;34m(self, index)\u001b[0m\n\u001b[1;32m    415\u001b[0m \u001b[0;34m\u001b[0m\u001b[0m\n\u001b[1;32m    416\u001b[0m         \u001b[0;32mif\u001b[0m \u001b[0;34m\"points\"\u001b[0m \u001b[0;32min\u001b[0m \u001b[0mget_item_list\u001b[0m\u001b[0;34m:\u001b[0m\u001b[0;34m\u001b[0m\u001b[0;34m\u001b[0m\u001b[0m\n\u001b[0;32m--> 417\u001b[0;31m             \u001b[0mpoints\u001b[0m \u001b[0;34m=\u001b[0m \u001b[0mself\u001b[0m\u001b[0;34m.\u001b[0m\u001b[0mget_lidar\u001b[0m\u001b[0;34m(\u001b[0m\u001b[0msample_idx\u001b[0m\u001b[0;34m)\u001b[0m\u001b[0;34m\u001b[0m\u001b[0;34m\u001b[0m\u001b[0m\n\u001b[0m\u001b[1;32m    418\u001b[0m             \u001b[0;32mif\u001b[0m \u001b[0mself\u001b[0m\u001b[0;34m.\u001b[0m\u001b[0mdataset_cfg\u001b[0m\u001b[0;34m.\u001b[0m\u001b[0mFOV_POINTS_ONLY\u001b[0m\u001b[0;34m:\u001b[0m\u001b[0;34m\u001b[0m\u001b[0;34m\u001b[0m\u001b[0m\n\u001b[1;32m    419\u001b[0m                 \u001b[0mpts_rect\u001b[0m \u001b[0;34m=\u001b[0m \u001b[0mcalib\u001b[0m\u001b[0;34m.\u001b[0m\u001b[0mlidar_to_rect\u001b[0m\u001b[0;34m(\u001b[0m\u001b[0mpoints\u001b[0m\u001b[0;34m[\u001b[0m\u001b[0;34m:\u001b[0m\u001b[0;34m,\u001b[0m \u001b[0;36m0\u001b[0m\u001b[0;34m:\u001b[0m\u001b[0;36m3\u001b[0m\u001b[0;34m]\u001b[0m\u001b[0;34m)\u001b[0m\u001b[0;34m\u001b[0m\u001b[0;34m\u001b[0m\u001b[0m\n",
      "\u001b[0;32m~/WorkSpace/pythonProjects/OpenPCDet/pcdet/datasets/kitti/kitti_dataset.py\u001b[0m in \u001b[0;36mget_lidar\u001b[0;34m(self, idx)\u001b[0m\n\u001b[1;32m     72\u001b[0m         \u001b[0mlidar_file\u001b[0m \u001b[0;34m=\u001b[0m \u001b[0mself\u001b[0m\u001b[0;34m.\u001b[0m\u001b[0mroot_split_path\u001b[0m \u001b[0;34m/\u001b[0m \u001b[0;34m'velodyne'\u001b[0m \u001b[0;34m/\u001b[0m \u001b[0;34m(\u001b[0m\u001b[0;34m'%s.bin'\u001b[0m \u001b[0;34m%\u001b[0m \u001b[0midx\u001b[0m\u001b[0;34m)\u001b[0m\u001b[0;34m\u001b[0m\u001b[0;34m\u001b[0m\u001b[0m\n\u001b[1;32m     73\u001b[0m         \u001b[0;32massert\u001b[0m \u001b[0mlidar_file\u001b[0m\u001b[0;34m.\u001b[0m\u001b[0mexists\u001b[0m\u001b[0;34m(\u001b[0m\u001b[0;34m)\u001b[0m\u001b[0;34m\u001b[0m\u001b[0;34m\u001b[0m\u001b[0m\n\u001b[0;32m---> 74\u001b[0;31m         \u001b[0;32mreturn\u001b[0m \u001b[0mnp\u001b[0m\u001b[0;34m.\u001b[0m\u001b[0mfromfile\u001b[0m\u001b[0;34m(\u001b[0m\u001b[0mstr\u001b[0m\u001b[0;34m(\u001b[0m\u001b[0mlidar_file\u001b[0m\u001b[0;34m)\u001b[0m\u001b[0;34m,\u001b[0m \u001b[0mdtype\u001b[0m\u001b[0;34m=\u001b[0m\u001b[0mnp\u001b[0m\u001b[0;34m.\u001b[0m\u001b[0mfloat32\u001b[0m\u001b[0;34m)\u001b[0m\u001b[0;34m.\u001b[0m\u001b[0mreshape\u001b[0m\u001b[0;34m(\u001b[0m\u001b[0;34m-\u001b[0m\u001b[0;36m1\u001b[0m\u001b[0;34m,\u001b[0m \u001b[0;36m4\u001b[0m\u001b[0;34m)\u001b[0m\u001b[0;34m\u001b[0m\u001b[0;34m\u001b[0m\u001b[0m\n\u001b[0m\u001b[1;32m     75\u001b[0m \u001b[0;34m\u001b[0m\u001b[0m\n\u001b[1;32m     76\u001b[0m     \u001b[0;32mdef\u001b[0m \u001b[0mget_image\u001b[0m\u001b[0;34m(\u001b[0m\u001b[0mself\u001b[0m\u001b[0;34m,\u001b[0m \u001b[0midx\u001b[0m\u001b[0;34m)\u001b[0m\u001b[0;34m:\u001b[0m\u001b[0;34m\u001b[0m\u001b[0;34m\u001b[0m\u001b[0m\n",
      "\u001b[0;31mKeyboardInterrupt\u001b[0m: "
     ]
    }
   ],
   "source": [
    "minmax = [] # rMin, thetaMin, phiMin, rMax, thetaMax, phiMax\n",
    "for i, data_dict in enumerate(kitti_dataset):\n",
    "    sys.stdout.write(f'\\rprocessing {i}/{len(kitti_dataset)}')\n",
    "    points = data_dict['points']\n",
    "    xyz = torch.from_numpy(points[:, 0:3])\n",
    "    \n",
    "    rThetaPhi = SphereProjection.xyz_to_rThetaPhi(xyz).numpy()\n",
    "    rtp_min = rThetaPhi.min(axis=0)\n",
    "    rtp_max = rThetaPhi.max(axis=0)\n",
    "    minmax.append(list(rtp_min) +  list(rtp_max))\n",
    "    \n",
    "#     break\n",
    "    "
   ]
  },
  {
   "cell_type": "code",
   "execution_count": null,
   "id": "09b8522c",
   "metadata": {
    "scrolled": false
   },
   "outputs": [],
   "source": [
    "minmax = np.array(minmax)\n",
    "minmax[:, [1,2,4,5]]*=57.3\n",
    "minmax"
   ]
  },
  {
   "cell_type": "code",
   "execution_count": null,
   "id": "4442a3a8",
   "metadata": {},
   "outputs": [],
   "source": [
    "titles = ['rMin', 'thetaMin', 'phiMin', 'rMax', 'thetaMax', 'phiMax']"
   ]
  },
  {
   "cell_type": "code",
   "execution_count": null,
   "id": "6272499d",
   "metadata": {},
   "outputs": [],
   "source": [
    "fig, ax = plt.subplots(nrows=2, ncols=3, figsize=(12, 8))\n",
    "\n",
    "for i, row in enumerate(ax):\n",
    "    for j, col in enumerate(row):\n",
    "        col.scatter(range(minmax.shape[0]), minmax[:, i*3+j])\n",
    "        col.title.set_text(titles[i*3+j])\n",
    "        "
   ]
  },
  {
   "cell_type": "markdown",
   "id": "2412b31a",
   "metadata": {},
   "source": [
    "#### 分布"
   ]
  },
  {
   "cell_type": "code",
   "execution_count": null,
   "id": "65bec192",
   "metadata": {},
   "outputs": [],
   "source": [
    "fig, ax = plt.subplots(nrows=2, ncols=3, figsize=(12, 8))\n",
    "\n",
    "for i, row in enumerate(ax):\n",
    "    for j, col in enumerate(row):\n",
    "        col.hist(minmax[:, i*3+j], bins=100)\n",
    "        col.title.set_text(titles[i*3+j])"
   ]
  },
  {
   "cell_type": "markdown",
   "id": "3feff039",
   "metadata": {},
   "source": [
    "> HFOV：(-41, 41); VFOV: (-5, 15)"
   ]
  },
  {
   "cell_type": "code",
   "execution_count": null,
   "id": "24e0e3e9",
   "metadata": {},
   "outputs": [],
   "source": []
  },
  {
   "cell_type": "code",
   "execution_count": null,
   "id": "53efb7d9",
   "metadata": {},
   "outputs": [],
   "source": []
  },
  {
   "cell_type": "markdown",
   "id": "1b810427",
   "metadata": {},
   "source": [
    "# RangeProjection feature mean & std"
   ]
  },
  {
   "cell_type": "code",
   "execution_count": 7,
   "id": "adad1627",
   "metadata": {},
   "outputs": [],
   "source": [
    "from easydict import EasyDict"
   ]
  },
  {
   "cell_type": "markdown",
   "id": "55b4af83",
   "metadata": {},
   "source": [
    "## KITTI"
   ]
  },
  {
   "cell_type": "code",
   "execution_count": 12,
   "id": "41515392",
   "metadata": {},
   "outputs": [],
   "source": [
    "from pcdet.datasets.kitti.kitti_dataset import KittiDataset"
   ]
  },
  {
   "cell_type": "code",
   "execution_count": 5,
   "id": "682e046f",
   "metadata": {},
   "outputs": [
    {
     "name": "stderr",
     "output_type": "stream",
     "text": [
      "2021-07-30 15:42:20,004   INFO  Loading KITTI dataset\n",
      "2021-07-30 15:42:20,130   INFO  Total samples for KITTI dataset: 3712\n"
     ]
    }
   ],
   "source": [
    "data_path = Path('../data/kitti')\n",
    "cfg_file = '../tools/cfgs/dataset_configs/kitti_dataset_noAug.yaml'\n",
    "\n",
    "class_names = ['Car', 'Pedestrian', 'Cyclist']\n",
    "cfg_from_yaml_file(cfg_file, cfg)\n",
    "\n",
    "logger = create_logger()\n",
    "# use val set, no aug for statistic!\n",
    "kitti_dataset = KittiDataset(cfg, class_names=class_names, root_path=data_path, logger=logger, training=True)\n"
   ]
  },
  {
   "cell_type": "code",
   "execution_count": 62,
   "id": "64361049",
   "metadata": {},
   "outputs": [],
   "source": [
    "cfg = EasyDict()\n",
    "\n",
    "### KITTI\n",
    "cfg.USE_RINGID = False\n",
    "cfg.RINGID_IDX = -1\n",
    "cfg.USE_XYZ = True\n",
    "cfg.H_FOV = [-41, 41]\n",
    "cfg.WIDTH = 512\n",
    "cfg.V_FOV = [-5, 15]\n",
    "cfg.HEIGHT = 64\n",
    "cfg.H_UPSAMPLE_RATIO = 2\n",
    "\n",
    "cfg.TRAIN_CFG = EasyDict()\n",
    "cfg.TRAIN_CFG.FILTER_GT_BOXES = True\n",
    "cfg.TRAIN_CFG.USE_OBSERVATION_ANGLE = True\n",
    "\n",
    "rp = BasicRangeProjection(cfg, input_channels=4)\n"
   ]
  },
  {
   "cell_type": "code",
   "execution_count": 57,
   "id": "96c20929",
   "metadata": {},
   "outputs": [
    {
     "name": "stdout",
     "output_type": "stream",
     "text": [
      "processing 3711/3712"
     ]
    },
    {
     "data": {
      "text/plain": [
       "array([ 1.63557622e+01,  2.06396953e-01, -1.05997715e+00,  1.77747792e+01,\n",
       "        1.13989087e-02,  9.62784147e-02,  2.45270869e-01])"
      ]
     },
     "execution_count": 57,
     "metadata": {},
     "output_type": "execute_result"
    }
   ],
   "source": [
    "# get mean\n",
    "fea_sum = 0\n",
    "points_cnt = 0\n",
    "for i, data_dict in enumerate(kitti_dataset):\n",
    "    sys.stdout.write(f'\\rprocessing {i}/{len(kitti_dataset)}')\n",
    "    data_dict = kitti_dataset.collate_batch([data_dict])\n",
    "    load_data_to_gpu(data_dict)\n",
    "    data_dict = rp(data_dict)\n",
    "    \n",
    "    rv_image = data_dict['spatial_features'][0].permute(1, 2, 0).cpu().numpy()[...,:7] #HWC, xyz rThetaPhi intensity\n",
    "    mask = (rv_image.sum(-1) != 0)\n",
    "    \n",
    "    valid_points = rv_image[mask]\n",
    "    fea_sum += valid_points.sum(0)\n",
    "    points_cnt += valid_points.shape[0]\n",
    "#     break\n",
    "    \n",
    "mean = fea_sum / points_cnt\n",
    "    \n",
    "mean"
   ]
  },
  {
   "cell_type": "code",
   "execution_count": 60,
   "id": "8fb92e27",
   "metadata": {},
   "outputs": [
    {
     "data": {
      "text/plain": [
       "array([16.355762,  0.206397, -1.059977, 17.774779,  0.011399,  0.096278,\n",
       "        0.245271])"
      ]
     },
     "execution_count": 60,
     "metadata": {},
     "output_type": "execute_result"
    }
   ],
   "source": [
    "np.set_printoptions(precision=6, suppress=True)\n",
    "mean\n"
   ]
  },
  {
   "cell_type": "code",
   "execution_count": 64,
   "id": "57de95d6",
   "metadata": {},
   "outputs": [
    {
     "name": "stdout",
     "output_type": "stream",
     "text": [
      "processing 3711/3712"
     ]
    },
    {
     "data": {
      "text/plain": [
       "array([11.729292,  6.380969,  0.77858 , 12.556925,  0.31467 ,  0.070107,\n",
       "        0.15448 ])"
      ]
     },
     "execution_count": 64,
     "metadata": {},
     "output_type": "execute_result"
    }
   ],
   "source": [
    "# get std\n",
    "fea_sum = 0\n",
    "points_cnt = 0\n",
    "for i, data_dict in enumerate(kitti_dataset):\n",
    "    sys.stdout.write(f'\\rprocessing {i}/{len(kitti_dataset)}')\n",
    "    data_dict = kitti_dataset.collate_batch([data_dict])\n",
    "    load_data_to_gpu(data_dict)\n",
    "    data_dict = rp(data_dict)\n",
    "    \n",
    "    rv_image = data_dict['spatial_features'][0].permute(1, 2, 0).cpu().numpy()[...,:7] #HWC, xyz rThetaPhi intensity\n",
    "    mask = (rv_image.sum(-1) != 0)\n",
    "    \n",
    "    valid_points = rv_image[mask]\n",
    "    fea_sum += ((valid_points - mean)**2).sum(0)\n",
    "    points_cnt += valid_points.shape[0]\n",
    "#     break\n",
    "    \n",
    "std = np.sqrt(fea_sum / points_cnt)\n",
    "\n",
    "std"
   ]
  },
  {
   "cell_type": "code",
   "execution_count": null,
   "id": "265fd6df",
   "metadata": {},
   "outputs": [],
   "source": []
  },
  {
   "cell_type": "code",
   "execution_count": null,
   "id": "171c50e0",
   "metadata": {},
   "outputs": [],
   "source": []
  },
  {
   "cell_type": "code",
   "execution_count": 65,
   "id": "3d48aa41",
   "metadata": {},
   "outputs": [],
   "source": [
    "new_rv_image = (rv_image - mean)/std\n",
    "new_rv_image[~mask] = 0\n",
    "valid_new = new_rv_image[mask]"
   ]
  },
  {
   "cell_type": "code",
   "execution_count": 56,
   "id": "f10f0d6d",
   "metadata": {
    "scrolled": true
   },
   "outputs": [
    {
     "data": {
      "image/png": "[encoded data removed]",
      "text/plain": [
       "<Figure size 864x576 with 6 Axes>"
      ]
     },
     "metadata": {
      "needs_background": "light"
     },
     "output_type": "display_data"
    }
   ],
   "source": [
    "fig, ax = plt.subplots(nrows=2, ncols=3, figsize=(12, 8))\n",
    "\n",
    "for i, row in enumerate(ax):\n",
    "    for j, col in enumerate(row):\n",
    "        col.hist(valid_points[:, i*3+j], bins=100)"
   ]
  },
  {
   "cell_type": "code",
   "execution_count": 67,
   "id": "b4b3e58e",
   "metadata": {},
   "outputs": [],
   "source": [
    "titles = ['x', 'y', 'z', 'r', 'theta', 'phi', 'intensity']"
   ]
  },
  {
   "cell_type": "code",
   "execution_count": 72,
   "id": "331c8f97",
   "metadata": {
    "scrolled": false
   },
   "outputs": [
    {
     "data": {
      "image/png": "[encoded data removed]",
      "text/plain": [
       "<Figure size 864x576 with 6 Axes>"
      ]
     },
     "metadata": {
      "needs_background": "light"
     },
     "output_type": "display_data"
    }
   ],
   "source": [
    "fig, ax = plt.subplots(nrows=2, ncols=3, figsize=(12, 8))\n",
    "\n",
    "for i, row in enumerate(ax):\n",
    "    for j, col in enumerate(row):\n",
    "        col.hist(valid_new[:, i*3+j], bins=100)\n",
    "        col.title.set_text(titles[i*3+j])"
   ]
  },
  {
   "cell_type": "code",
   "execution_count": null,
   "id": "bd0a9889",
   "metadata": {},
   "outputs": [],
   "source": []
  },
  {
   "cell_type": "code",
   "execution_count": null,
   "id": "86320e60",
   "metadata": {},
   "outputs": [],
   "source": []
  },
  {
   "cell_type": "code",
   "execution_count": null,
   "id": "9148ee27",
   "metadata": {},
   "outputs": [],
   "source": []
  },
  {
   "cell_type": "code",
   "execution_count": null,
   "id": "1c710dbb",
   "metadata": {},
   "outputs": [],
   "source": []
  },
  {
   "cell_type": "code",
   "execution_count": null,
   "id": "ed638b80",
   "metadata": {},
   "outputs": [],
   "source": []
  },
  {
   "cell_type": "code",
   "execution_count": null,
   "id": "d98a4d7c",
   "metadata": {},
   "outputs": [],
   "source": []
  },
  {
   "cell_type": "code",
   "execution_count": null,
   "id": "a8574bcb",
   "metadata": {},
   "outputs": [],
   "source": []
  }
 ],
 "metadata": {
  "kernelspec": {
   "display_name": "Python 3 (ipykernel)",
   "language": "python",
   "name": "python3"
  },
  "language_info": {
   "codemirror_mode": {
    "name": "ipython",
    "version": 3
   },
   "file_extension": ".py",
   "mimetype": "text/x-python",
   "name": "python",
   "nbconvert_exporter": "python",
   "pygments_lexer": "ipython3",
   "version": "3.7.10"
  }
 },
 "nbformat": 4,
 "nbformat_minor": 5
}
